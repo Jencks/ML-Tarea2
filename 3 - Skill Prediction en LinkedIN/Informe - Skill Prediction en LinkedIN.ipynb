{
 "cells": [
  {
   "cell_type": "markdown",
   "metadata": {},
   "source": [
    "# Pregunta 3: Skill Prediction en LinkedIN"
   ]
  },
  {
   "cell_type": "markdown",
   "metadata": {},
   "source": [
    "## a) Generación de matriz dispersa Z"
   ]
  },
  {
   "cell_type": "code",
   "execution_count": 80,
   "metadata": {
    "collapsed": false
   },
   "outputs": [
    {
     "data": {
      "text/plain": [
       "(7890L, 14544L)"
      ]
     },
     "execution_count": 80,
     "metadata": {},
     "output_type": "execute_result"
    }
   ],
   "source": [
    "from scipy.sparse import csr_matrix\n",
    "import numpy as np\n",
    "\n",
    "def generar_matriz():\n",
    "\n",
    "    lineas_perfiles = [linea.rstrip('\\n') for linea in open('user_skill')]\n",
    "    lineas_competencias = [linea.rstrip('\\n') for linea in open('skill_id')]\n",
    "\n",
    "    n = len(lineas_perfiles)\n",
    "    d = len(lineas_competencias)\n",
    "    \n",
    "    matriz = csr_matrix((n, d), dtype=np.int8).toarray()\n",
    "    \n",
    "    perfiles = [perfil.split(\":\") for perfil in lineas_perfiles]\n",
    "    perfiles = [(perfil[0],perfil[1].split(\",\")) for perfil in perfiles]\n",
    "    \n",
    "    for perfil in perfiles:\n",
    "        id_perfil = int(perfil[0])\n",
    "        for skill in perfil[1]:\n",
    "            id_skill = int(skill)\n",
    "            matriz[id_perfil][id_skill] = 1\n",
    "        \n",
    "    return matriz\n",
    "    \n",
    "matriz = generar_matriz()\n",
    "matriz.shape"
   ]
  },
  {
   "cell_type": "markdown",
   "metadata": {},
   "source": [
    "## b) Sub-matrices de entrenamiento y de prueba"
   ]
  },
  {
   "cell_type": "code",
   "execution_count": 82,
   "metadata": {
    "collapsed": false
   },
   "outputs": [],
   "source": [
    "import random\n",
    "from random import randint\n",
    "\n",
    "matriz_aux = random.sample(matriz, len(matriz)) \n",
    "n = len(matriz_aux)\n",
    "\n",
    "matriz_train = matriz_aux[:int(n*0.7)]\n",
    "matriz_test = matriz_aux[int(n*0.7):]\n",
    "\n",
    "n_tr = len(matriz_train)\n",
    "n_ts = len(matriz_test)"
   ]
  },
  {
   "cell_type": "markdown",
   "metadata": {},
   "source": [
    "## c) "
   ]
  },
  {
   "cell_type": "code",
   "execution_count": null,
   "metadata": {
    "collapsed": true
   },
   "outputs": [],
   "source": []
  },
  {
   "cell_type": "markdown",
   "metadata": {},
   "source": [
    "## d) "
   ]
  },
  {
   "cell_type": "code",
   "execution_count": null,
   "metadata": {
    "collapsed": true
   },
   "outputs": [],
   "source": []
  },
  {
   "cell_type": "markdown",
   "metadata": {},
   "source": [
    "## e) "
   ]
  },
  {
   "cell_type": "code",
   "execution_count": null,
   "metadata": {
    "collapsed": true
   },
   "outputs": [],
   "source": []
  },
  {
   "cell_type": "markdown",
   "metadata": {},
   "source": [
    "## f) "
   ]
  },
  {
   "cell_type": "code",
   "execution_count": null,
   "metadata": {
    "collapsed": true
   },
   "outputs": [],
   "source": []
  }
 ],
 "metadata": {
  "anaconda-cloud": {},
  "kernelspec": {
   "display_name": "Python [Root]",
   "language": "python",
   "name": "Python [Root]"
  },
  "language_info": {
   "codemirror_mode": {
    "name": "ipython",
    "version": 2
   },
   "file_extension": ".py",
   "mimetype": "text/x-python",
   "name": "python",
   "nbconvert_exporter": "python",
   "pygments_lexer": "ipython2",
   "version": "2.7.12"
  }
 },
 "nbformat": 4,
 "nbformat_minor": 0
}
